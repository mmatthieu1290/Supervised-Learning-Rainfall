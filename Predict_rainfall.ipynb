{
 "cells": [
  {
   "cell_type": "code",
   "execution_count": 1,
   "id": "e5f4a675",
   "metadata": {},
   "outputs": [
    {
     "name": "stderr",
     "output_type": "stream",
     "text": [
      "C:\\Users\\mathi\\anaconda3\\lib\\site-packages\\pandas\\core\\computation\\expressions.py:21: UserWarning: Pandas requires version '2.8.4' or newer of 'numexpr' (version '2.8.1' currently installed).\n",
      "  from pandas.core.computation.check import NUMEXPR_INSTALLED\n",
      "C:\\Users\\mathi\\anaconda3\\lib\\site-packages\\pandas\\core\\arrays\\masked.py:60: UserWarning: Pandas requires version '1.3.6' or newer of 'bottleneck' (version '1.3.4' currently installed).\n",
      "  from pandas.core import (\n"
     ]
    }
   ],
   "source": [
    "import pandas as pd\n",
    "import numpy as np\n",
    "import plotly.graph_objects as go\n",
    "import seaborn as sns\n",
    "import matplotlib.pyplot as plt\n",
    "from itertools import product\n",
    "from sklearn.base import clone\n",
    "import warnings\n",
    "\n",
    "\n",
    "\n",
    "from sklearn.linear_model import LogisticRegression,LinearRegression\n",
    "from sklearn.model_selection import train_test_split,GridSearchCV,KFold\n",
    "from sklearn.metrics import accuracy_score,f1_score,auc,ConfusionMatrixDisplay, roc_curve,roc_auc_score, precision_score,\\\n",
    "recall_score\n",
    "from sklearn.preprocessing import  OneHotEncoder, StandardScaler\n",
    "from sklearn.neighbors import KNeighborsClassifier\n",
    "from xgboost import XGBClassifier\n"
   ]
  },
  {
   "cell_type": "code",
   "execution_count": 2,
   "id": "65802b2c",
   "metadata": {},
   "outputs": [],
   "source": [
    "df = pd.read_csv(\"train.csv\")"
   ]
  },
  {
   "cell_type": "code",
   "execution_count": 3,
   "id": "8261c1d0",
   "metadata": {},
   "outputs": [
    {
     "data": {
      "text/html": [
       "<div>\n",
       "<style scoped>\n",
       "    .dataframe tbody tr th:only-of-type {\n",
       "        vertical-align: middle;\n",
       "    }\n",
       "\n",
       "    .dataframe tbody tr th {\n",
       "        vertical-align: top;\n",
       "    }\n",
       "\n",
       "    .dataframe thead th {\n",
       "        text-align: right;\n",
       "    }\n",
       "</style>\n",
       "<table border=\"1\" class=\"dataframe\">\n",
       "  <thead>\n",
       "    <tr style=\"text-align: right;\">\n",
       "      <th></th>\n",
       "      <th>id</th>\n",
       "      <th>day</th>\n",
       "      <th>pressure</th>\n",
       "      <th>maxtemp</th>\n",
       "      <th>temparature</th>\n",
       "      <th>mintemp</th>\n",
       "      <th>dewpoint</th>\n",
       "      <th>humidity</th>\n",
       "      <th>cloud</th>\n",
       "      <th>sunshine</th>\n",
       "      <th>winddirection</th>\n",
       "      <th>windspeed</th>\n",
       "      <th>rainfall</th>\n",
       "    </tr>\n",
       "  </thead>\n",
       "  <tbody>\n",
       "    <tr>\n",
       "      <th>0</th>\n",
       "      <td>0</td>\n",
       "      <td>1</td>\n",
       "      <td>1017.4</td>\n",
       "      <td>21.2</td>\n",
       "      <td>20.6</td>\n",
       "      <td>19.9</td>\n",
       "      <td>19.4</td>\n",
       "      <td>87.0</td>\n",
       "      <td>88.0</td>\n",
       "      <td>1.1</td>\n",
       "      <td>60.0</td>\n",
       "      <td>17.2</td>\n",
       "      <td>1</td>\n",
       "    </tr>\n",
       "    <tr>\n",
       "      <th>1</th>\n",
       "      <td>1</td>\n",
       "      <td>2</td>\n",
       "      <td>1019.5</td>\n",
       "      <td>16.2</td>\n",
       "      <td>16.9</td>\n",
       "      <td>15.8</td>\n",
       "      <td>15.4</td>\n",
       "      <td>95.0</td>\n",
       "      <td>91.0</td>\n",
       "      <td>0.0</td>\n",
       "      <td>50.0</td>\n",
       "      <td>21.9</td>\n",
       "      <td>1</td>\n",
       "    </tr>\n",
       "    <tr>\n",
       "      <th>2</th>\n",
       "      <td>2</td>\n",
       "      <td>3</td>\n",
       "      <td>1024.1</td>\n",
       "      <td>19.4</td>\n",
       "      <td>16.1</td>\n",
       "      <td>14.6</td>\n",
       "      <td>9.3</td>\n",
       "      <td>75.0</td>\n",
       "      <td>47.0</td>\n",
       "      <td>8.3</td>\n",
       "      <td>70.0</td>\n",
       "      <td>18.1</td>\n",
       "      <td>1</td>\n",
       "    </tr>\n",
       "    <tr>\n",
       "      <th>3</th>\n",
       "      <td>3</td>\n",
       "      <td>4</td>\n",
       "      <td>1013.4</td>\n",
       "      <td>18.1</td>\n",
       "      <td>17.8</td>\n",
       "      <td>16.9</td>\n",
       "      <td>16.8</td>\n",
       "      <td>95.0</td>\n",
       "      <td>95.0</td>\n",
       "      <td>0.0</td>\n",
       "      <td>60.0</td>\n",
       "      <td>35.6</td>\n",
       "      <td>1</td>\n",
       "    </tr>\n",
       "    <tr>\n",
       "      <th>4</th>\n",
       "      <td>4</td>\n",
       "      <td>5</td>\n",
       "      <td>1021.8</td>\n",
       "      <td>21.3</td>\n",
       "      <td>18.4</td>\n",
       "      <td>15.2</td>\n",
       "      <td>9.6</td>\n",
       "      <td>52.0</td>\n",
       "      <td>45.0</td>\n",
       "      <td>3.6</td>\n",
       "      <td>40.0</td>\n",
       "      <td>24.8</td>\n",
       "      <td>0</td>\n",
       "    </tr>\n",
       "  </tbody>\n",
       "</table>\n",
       "</div>"
      ],
      "text/plain": [
       "   id  day  pressure  maxtemp  temparature  mintemp  dewpoint  humidity  \\\n",
       "0   0    1    1017.4     21.2         20.6     19.9      19.4      87.0   \n",
       "1   1    2    1019.5     16.2         16.9     15.8      15.4      95.0   \n",
       "2   2    3    1024.1     19.4         16.1     14.6       9.3      75.0   \n",
       "3   3    4    1013.4     18.1         17.8     16.9      16.8      95.0   \n",
       "4   4    5    1021.8     21.3         18.4     15.2       9.6      52.0   \n",
       "\n",
       "   cloud  sunshine  winddirection  windspeed  rainfall  \n",
       "0   88.0       1.1           60.0       17.2         1  \n",
       "1   91.0       0.0           50.0       21.9         1  \n",
       "2   47.0       8.3           70.0       18.1         1  \n",
       "3   95.0       0.0           60.0       35.6         1  \n",
       "4   45.0       3.6           40.0       24.8         0  "
      ]
     },
     "execution_count": 3,
     "metadata": {},
     "output_type": "execute_result"
    }
   ],
   "source": [
    "df.head()"
   ]
  },
  {
   "cell_type": "markdown",
   "id": "a954324c",
   "metadata": {},
   "source": [
    "Drop two first columns"
   ]
  },
  {
   "cell_type": "code",
   "execution_count": 4,
   "id": "69c8a901",
   "metadata": {},
   "outputs": [],
   "source": [
    "df = df.drop(columns = [\"id\",\"day\"])"
   ]
  },
  {
   "cell_type": "markdown",
   "id": "c75211e6",
   "metadata": {},
   "source": [
    "Correlations between temperatures"
   ]
  },
  {
   "cell_type": "code",
   "execution_count": 5,
   "id": "c78b61dc",
   "metadata": {},
   "outputs": [
    {
     "data": {
      "text/html": [
       "<div>\n",
       "<style scoped>\n",
       "    .dataframe tbody tr th:only-of-type {\n",
       "        vertical-align: middle;\n",
       "    }\n",
       "\n",
       "    .dataframe tbody tr th {\n",
       "        vertical-align: top;\n",
       "    }\n",
       "\n",
       "    .dataframe thead th {\n",
       "        text-align: right;\n",
       "    }\n",
       "</style>\n",
       "<table border=\"1\" class=\"dataframe\">\n",
       "  <thead>\n",
       "    <tr style=\"text-align: right;\">\n",
       "      <th></th>\n",
       "      <th>maxtemp</th>\n",
       "      <th>temparature</th>\n",
       "      <th>mintemp</th>\n",
       "    </tr>\n",
       "  </thead>\n",
       "  <tbody>\n",
       "    <tr>\n",
       "      <th>maxtemp</th>\n",
       "      <td>1.000000</td>\n",
       "      <td>0.982932</td>\n",
       "      <td>0.965529</td>\n",
       "    </tr>\n",
       "    <tr>\n",
       "      <th>temparature</th>\n",
       "      <td>0.982932</td>\n",
       "      <td>1.000000</td>\n",
       "      <td>0.987150</td>\n",
       "    </tr>\n",
       "    <tr>\n",
       "      <th>mintemp</th>\n",
       "      <td>0.965529</td>\n",
       "      <td>0.987150</td>\n",
       "      <td>1.000000</td>\n",
       "    </tr>\n",
       "  </tbody>\n",
       "</table>\n",
       "</div>"
      ],
      "text/plain": [
       "              maxtemp  temparature   mintemp\n",
       "maxtemp      1.000000     0.982932  0.965529\n",
       "temparature  0.982932     1.000000  0.987150\n",
       "mintemp      0.965529     0.987150  1.000000"
      ]
     },
     "execution_count": 5,
     "metadata": {},
     "output_type": "execute_result"
    }
   ],
   "source": [
    "df[[\"maxtemp\",\"temparature\",\"mintemp\"]].corr()"
   ]
  },
  {
   "cell_type": "markdown",
   "id": "615fe9f1",
   "metadata": {},
   "source": [
    "Very high correlations, we drop minimum y maximum temperatures"
   ]
  },
  {
   "cell_type": "code",
   "execution_count": 6,
   "id": "a4348610",
   "metadata": {},
   "outputs": [],
   "source": [
    "df = df.drop(columns = [\"maxtemp\",\"mintemp\"])"
   ]
  },
  {
   "cell_type": "code",
   "execution_count": 7,
   "id": "eb836b27",
   "metadata": {},
   "outputs": [
    {
     "data": {
      "text/html": [
       "<div>\n",
       "<style scoped>\n",
       "    .dataframe tbody tr th:only-of-type {\n",
       "        vertical-align: middle;\n",
       "    }\n",
       "\n",
       "    .dataframe tbody tr th {\n",
       "        vertical-align: top;\n",
       "    }\n",
       "\n",
       "    .dataframe thead th {\n",
       "        text-align: right;\n",
       "    }\n",
       "</style>\n",
       "<table border=\"1\" class=\"dataframe\">\n",
       "  <thead>\n",
       "    <tr style=\"text-align: right;\">\n",
       "      <th></th>\n",
       "      <th>dewpoint</th>\n",
       "      <th>temparature</th>\n",
       "      <th>humidity</th>\n",
       "    </tr>\n",
       "  </thead>\n",
       "  <tbody>\n",
       "    <tr>\n",
       "      <th>dewpoint</th>\n",
       "      <td>1.000000</td>\n",
       "      <td>0.933617</td>\n",
       "      <td>0.153390</td>\n",
       "    </tr>\n",
       "    <tr>\n",
       "      <th>temparature</th>\n",
       "      <td>0.933617</td>\n",
       "      <td>1.000000</td>\n",
       "      <td>-0.025016</td>\n",
       "    </tr>\n",
       "    <tr>\n",
       "      <th>humidity</th>\n",
       "      <td>0.153390</td>\n",
       "      <td>-0.025016</td>\n",
       "      <td>1.000000</td>\n",
       "    </tr>\n",
       "  </tbody>\n",
       "</table>\n",
       "</div>"
      ],
      "text/plain": [
       "             dewpoint  temparature  humidity\n",
       "dewpoint     1.000000     0.933617  0.153390\n",
       "temparature  0.933617     1.000000 -0.025016\n",
       "humidity     0.153390    -0.025016  1.000000"
      ]
     },
     "execution_count": 7,
     "metadata": {},
     "output_type": "execute_result"
    }
   ],
   "source": [
    "df[[\"dewpoint\",\"temparature\",\"humidity\"]].corr()"
   ]
  },
  {
   "cell_type": "markdown",
   "id": "9d558067",
   "metadata": {},
   "source": [
    "Very high correlations between dewpoint and temperature"
   ]
  },
  {
   "cell_type": "code",
   "execution_count": 9,
   "id": "5b25e1a1",
   "metadata": {},
   "outputs": [
    {
     "data": {
      "text/plain": [
       "<seaborn.axisgrid.FacetGrid at 0x19d14a0fdc0>"
      ]
     },
     "execution_count": 9,
     "metadata": {},
     "output_type": "execute_result"
    },
    {
     "data": {
      "image/png": "[encoded data removed]",
      "text/plain": [
       "<Figure size 360x360 with 1 Axes>"
      ]
     },
     "metadata": {
      "needs_background": "light"
     },
     "output_type": "display_data"
    }
   ],
   "source": [
    "sns.lmplot(df , x = \"temparature\" , y = \"rainfall\" , logistic = True)"
   ]
  },
  {
   "cell_type": "code",
   "execution_count": 10,
   "id": "6d12691a",
   "metadata": {},
   "outputs": [
    {
     "data": {
      "text/plain": [
       "<seaborn.axisgrid.FacetGrid at 0x19d0fbcc0a0>"
      ]
     },
     "execution_count": 10,
     "metadata": {},
     "output_type": "execute_result"
    },
    {
     "data": {
      "image/png": "[encoded data removed]",
      "text/plain": [
       "<Figure size 360x360 with 1 Axes>"
      ]
     },
     "metadata": {
      "needs_background": "light"
     },
     "output_type": "display_data"
    }
   ],
   "source": [
    "sns.lmplot(df , x = \"dewpoint\" , y = \"rainfall\" , logistic = True)"
   ]
  },
  {
   "cell_type": "markdown",
   "id": "7b60e0f2",
   "metadata": {},
   "source": [
    "Temperature and dewpoint have no significant implications on probability of rainfall, mainely temperature"
   ]
  },
  {
   "cell_type": "markdown",
   "id": "c22ec361",
   "metadata": {},
   "source": [
    "We know that condensation is more probable when temperature is small with respect to dewpoint, let us check this hypotesis."
   ]
  },
  {
   "cell_type": "code",
   "execution_count": 11,
   "id": "4c30e105",
   "metadata": {},
   "outputs": [],
   "source": [
    "df[\"diff_temp_dewpoint\"] = df[\"temparature\"] - df[\"dewpoint\"]"
   ]
  },
  {
   "cell_type": "code",
   "execution_count": 12,
   "id": "0aedfd5e",
   "metadata": {},
   "outputs": [
    {
     "data": {
      "text/plain": [
       "<seaborn.axisgrid.FacetGrid at 0x19d16c37580>"
      ]
     },
     "execution_count": 12,
     "metadata": {},
     "output_type": "execute_result"
    },
    {
     "data": {
      "image/png": "[encoded data removed]",
      "text/plain": [
       "<Figure size 360x360 with 1 Axes>"
      ]
     },
     "metadata": {
      "needs_background": "light"
     },
     "output_type": "display_data"
    }
   ],
   "source": [
    "sns.lmplot(df,x = \"diff_temp_dewpoint\",y=\"rainfall\",logistic = True)"
   ]
  },
  {
   "cell_type": "markdown",
   "id": "77548473",
   "metadata": {},
   "source": [
    "Difference between temperature and dewpoint has a huge influence on probability of rainfall, we so drop temperature and dewpoint and keep the difference between them."
   ]
  },
  {
   "cell_type": "code",
   "execution_count": 13,
   "id": "4bd3ab25",
   "metadata": {},
   "outputs": [],
   "source": [
    "df = df.drop(columns = \"dewpoint\")\n",
    "\n",
    "df = df.drop(columns = \"temparature\")"
   ]
  },
  {
   "cell_type": "markdown",
   "id": "31bf4661",
   "metadata": {},
   "source": []
  },
  {
   "cell_type": "code",
   "execution_count": 14,
   "id": "e4c77193",
   "metadata": {},
   "outputs": [
    {
     "data": {
      "text/html": [
       "<div>\n",
       "<style scoped>\n",
       "    .dataframe tbody tr th:only-of-type {\n",
       "        vertical-align: middle;\n",
       "    }\n",
       "\n",
       "    .dataframe tbody tr th {\n",
       "        vertical-align: top;\n",
       "    }\n",
       "\n",
       "    .dataframe thead th {\n",
       "        text-align: right;\n",
       "    }\n",
       "</style>\n",
       "<table border=\"1\" class=\"dataframe\">\n",
       "  <thead>\n",
       "    <tr style=\"text-align: right;\">\n",
       "      <th></th>\n",
       "      <th>pressure</th>\n",
       "      <th>humidity</th>\n",
       "      <th>cloud</th>\n",
       "      <th>sunshine</th>\n",
       "      <th>windspeed</th>\n",
       "      <th>rainfall</th>\n",
       "    </tr>\n",
       "  </thead>\n",
       "  <tbody>\n",
       "    <tr>\n",
       "      <th>pressure</th>\n",
       "      <td>1.000000</td>\n",
       "      <td>-0.119949</td>\n",
       "      <td>0.098600</td>\n",
       "      <td>-0.257163</td>\n",
       "      <td>0.266012</td>\n",
       "      <td>-0.049886</td>\n",
       "    </tr>\n",
       "    <tr>\n",
       "      <th>humidity</th>\n",
       "      <td>-0.119949</td>\n",
       "      <td>1.000000</td>\n",
       "      <td>0.584854</td>\n",
       "      <td>-0.541592</td>\n",
       "      <td>0.062285</td>\n",
       "      <td>0.454213</td>\n",
       "    </tr>\n",
       "    <tr>\n",
       "      <th>cloud</th>\n",
       "      <td>0.098600</td>\n",
       "      <td>0.584854</td>\n",
       "      <td>1.000000</td>\n",
       "      <td>-0.805128</td>\n",
       "      <td>0.184698</td>\n",
       "      <td>0.641191</td>\n",
       "    </tr>\n",
       "    <tr>\n",
       "      <th>sunshine</th>\n",
       "      <td>-0.257163</td>\n",
       "      <td>-0.541592</td>\n",
       "      <td>-0.805128</td>\n",
       "      <td>1.000000</td>\n",
       "      <td>-0.241752</td>\n",
       "      <td>-0.555287</td>\n",
       "    </tr>\n",
       "    <tr>\n",
       "      <th>windspeed</th>\n",
       "      <td>0.266012</td>\n",
       "      <td>0.062285</td>\n",
       "      <td>0.184698</td>\n",
       "      <td>-0.241752</td>\n",
       "      <td>1.000000</td>\n",
       "      <td>0.111625</td>\n",
       "    </tr>\n",
       "    <tr>\n",
       "      <th>rainfall</th>\n",
       "      <td>-0.049886</td>\n",
       "      <td>0.454213</td>\n",
       "      <td>0.641191</td>\n",
       "      <td>-0.555287</td>\n",
       "      <td>0.111625</td>\n",
       "      <td>1.000000</td>\n",
       "    </tr>\n",
       "  </tbody>\n",
       "</table>\n",
       "</div>"
      ],
      "text/plain": [
       "           pressure  humidity     cloud  sunshine  windspeed  rainfall\n",
       "pressure   1.000000 -0.119949  0.098600 -0.257163   0.266012 -0.049886\n",
       "humidity  -0.119949  1.000000  0.584854 -0.541592   0.062285  0.454213\n",
       "cloud      0.098600  0.584854  1.000000 -0.805128   0.184698  0.641191\n",
       "sunshine  -0.257163 -0.541592 -0.805128  1.000000  -0.241752 -0.555287\n",
       "windspeed  0.266012  0.062285  0.184698 -0.241752   1.000000  0.111625\n",
       "rainfall  -0.049886  0.454213  0.641191 -0.555287   0.111625  1.000000"
      ]
     },
     "execution_count": 14,
     "metadata": {},
     "output_type": "execute_result"
    }
   ],
   "source": []
  },
  {
   "cell_type": "markdown",
   "id": "b18cc272",
   "metadata": {},
   "source": [
    "Let us check the influence of winddirection on rainfall"
   ]
  },
  {
   "cell_type": "code",
   "execution_count": 15,
   "id": "75b9ae74",
   "metadata": {},
   "outputs": [
    {
     "data": {
      "text/plain": [
       "<seaborn.axisgrid.FacetGrid at 0x19d18d0b4c0>"
      ]
     },
     "execution_count": 15,
     "metadata": {},
     "output_type": "execute_result"
    },
    {
     "data": {
      "image/png": "[encoded data removed]",
      "text/plain": [
       "<Figure size 360x360 with 1 Axes>"
      ]
     },
     "metadata": {
      "needs_background": "light"
     },
     "output_type": "display_data"
    }
   ],
   "source": [
    "sns.lmplot(df,x=\"winddirection\",y=\"rainfall\",logistic=True)"
   ]
  },
  {
   "cell_type": "markdown",
   "id": "fd84d046",
   "metadata": {},
   "source": [
    "We now check windspeed"
   ]
  },
  {
   "cell_type": "code",
   "execution_count": 16,
   "id": "a1510fad",
   "metadata": {},
   "outputs": [
    {
     "data": {
      "text/plain": [
       "<seaborn.axisgrid.FacetGrid at 0x19d18d5aeb0>"
      ]
     },
     "execution_count": 16,
     "metadata": {},
     "output_type": "execute_result"
    },
    {
     "data": {
      "image/png": "[encoded data removed]",
      "text/plain": [
       "<Figure size 360x360 with 1 Axes>"
      ]
     },
     "metadata": {
      "needs_background": "light"
     },
     "output_type": "display_data"
    }
   ],
   "source": [
    "sns.lmplot(df,x=\"windspeed\",y=\"rainfall\",logistic=True)"
   ]
  },
  {
   "cell_type": "markdown",
   "id": "70a13a60",
   "metadata": {},
   "source": [
    "It seems that windspeed has influence on rainfall but winddirection has no influence. We check with a Logistic Regression and Lasso regularization."
   ]
  },
  {
   "cell_type": "code",
   "execution_count": 23,
   "id": "1cbb53e9",
   "metadata": {},
   "outputs": [
    {
     "data": {
      "text/plain": [
       "array([104.86315068,  21.8047032 ])"
      ]
     },
     "execution_count": 23,
     "metadata": {},
     "output_type": "execute_result"
    }
   ],
   "source": [
    "X.mean(axis = 0)"
   ]
  },
  {
   "cell_type": "code",
   "execution_count": 24,
   "id": "c6b765d5",
   "metadata": {},
   "outputs": [
    {
     "name": "stderr",
     "output_type": "stream",
     "text": [
      "C:\\Users\\mathi\\anaconda3\\lib\\site-packages\\sklearn\\utils\\validation.py:993: DataConversionWarning: A column-vector y was passed when a 1d array was expected. Please change the shape of y to (n_samples, ), for example using ravel().\n",
      "  y = column_or_1d(y, warn=True)\n"
     ]
    },
    {
     "data": {
      "text/plain": [
       "LogisticRegression(penalty='l1', solver='liblinear')"
      ]
     },
     "execution_count": 24,
     "metadata": {},
     "output_type": "execute_result"
    }
   ],
   "source": [
    "X = np.array(df[[\"winddirection\",\"windspeed\"]])\n",
    "y = np.array(df[\"rainfall\"]).reshape((-1,1))\n",
    "\n",
    "X = (X - X.mean(axis = 0)) / X.std(axis = 0)\n",
    "\n",
    "LR = LogisticRegression(penalty = \"l1\", solver =  \"liblinear\")\n",
    "\n",
    "LR.fit(X,y)"
   ]
  },
  {
   "cell_type": "code",
   "execution_count": 25,
   "id": "c3bdc50c",
   "metadata": {},
   "outputs": [
    {
     "data": {
      "text/plain": [
       "array([[0.03254799, 0.28031068]])"
      ]
     },
     "execution_count": 25,
     "metadata": {},
     "output_type": "execute_result"
    }
   ],
   "source": [
    "LR.coef_"
   ]
  },
  {
   "cell_type": "markdown",
   "id": "7f718efd",
   "metadata": {},
   "source": [
    "Efectivelly, winddirection has small influence of rainfall, so we drop it."
   ]
  },
  {
   "cell_type": "code",
   "execution_count": 26,
   "id": "3c824360",
   "metadata": {},
   "outputs": [],
   "source": [
    "df = df.drop(columns = \"winddirection\")"
   ]
  },
  {
   "cell_type": "markdown",
   "id": "1e741be7",
   "metadata": {},
   "source": [
    "We now study correlations between several variables."
   ]
  },
  {
   "cell_type": "code",
   "execution_count": 28,
   "id": "e896a518",
   "metadata": {},
   "outputs": [
    {
     "data": {
      "text/html": [
       "<div>\n",
       "<style scoped>\n",
       "    .dataframe tbody tr th:only-of-type {\n",
       "        vertical-align: middle;\n",
       "    }\n",
       "\n",
       "    .dataframe tbody tr th {\n",
       "        vertical-align: top;\n",
       "    }\n",
       "\n",
       "    .dataframe thead th {\n",
       "        text-align: right;\n",
       "    }\n",
       "</style>\n",
       "<table border=\"1\" class=\"dataframe\">\n",
       "  <thead>\n",
       "    <tr style=\"text-align: right;\">\n",
       "      <th></th>\n",
       "      <th>pressure</th>\n",
       "      <th>humidity</th>\n",
       "      <th>cloud</th>\n",
       "      <th>sunshine</th>\n",
       "      <th>windspeed</th>\n",
       "      <th>rainfall</th>\n",
       "    </tr>\n",
       "  </thead>\n",
       "  <tbody>\n",
       "    <tr>\n",
       "      <th>pressure</th>\n",
       "      <td>1.000000</td>\n",
       "      <td>-0.119949</td>\n",
       "      <td>0.098600</td>\n",
       "      <td>-0.257163</td>\n",
       "      <td>0.266012</td>\n",
       "      <td>-0.049886</td>\n",
       "    </tr>\n",
       "    <tr>\n",
       "      <th>humidity</th>\n",
       "      <td>-0.119949</td>\n",
       "      <td>1.000000</td>\n",
       "      <td>0.584854</td>\n",
       "      <td>-0.541592</td>\n",
       "      <td>0.062285</td>\n",
       "      <td>0.454213</td>\n",
       "    </tr>\n",
       "    <tr>\n",
       "      <th>cloud</th>\n",
       "      <td>0.098600</td>\n",
       "      <td>0.584854</td>\n",
       "      <td>1.000000</td>\n",
       "      <td>-0.805128</td>\n",
       "      <td>0.184698</td>\n",
       "      <td>0.641191</td>\n",
       "    </tr>\n",
       "    <tr>\n",
       "      <th>sunshine</th>\n",
       "      <td>-0.257163</td>\n",
       "      <td>-0.541592</td>\n",
       "      <td>-0.805128</td>\n",
       "      <td>1.000000</td>\n",
       "      <td>-0.241752</td>\n",
       "      <td>-0.555287</td>\n",
       "    </tr>\n",
       "    <tr>\n",
       "      <th>windspeed</th>\n",
       "      <td>0.266012</td>\n",
       "      <td>0.062285</td>\n",
       "      <td>0.184698</td>\n",
       "      <td>-0.241752</td>\n",
       "      <td>1.000000</td>\n",
       "      <td>0.111625</td>\n",
       "    </tr>\n",
       "    <tr>\n",
       "      <th>rainfall</th>\n",
       "      <td>-0.049886</td>\n",
       "      <td>0.454213</td>\n",
       "      <td>0.641191</td>\n",
       "      <td>-0.555287</td>\n",
       "      <td>0.111625</td>\n",
       "      <td>1.000000</td>\n",
       "    </tr>\n",
       "  </tbody>\n",
       "</table>\n",
       "</div>"
      ],
      "text/plain": [
       "           pressure  humidity     cloud  sunshine  windspeed  rainfall\n",
       "pressure   1.000000 -0.119949  0.098600 -0.257163   0.266012 -0.049886\n",
       "humidity  -0.119949  1.000000  0.584854 -0.541592   0.062285  0.454213\n",
       "cloud      0.098600  0.584854  1.000000 -0.805128   0.184698  0.641191\n",
       "sunshine  -0.257163 -0.541592 -0.805128  1.000000  -0.241752 -0.555287\n",
       "windspeed  0.266012  0.062285  0.184698 -0.241752   1.000000  0.111625\n",
       "rainfall  -0.049886  0.454213  0.641191 -0.555287   0.111625  1.000000"
      ]
     },
     "execution_count": 28,
     "metadata": {},
     "output_type": "execute_result"
    }
   ],
   "source": [
    "df[[\"pressure\",\"humidity\",\"cloud\",\"sunshine\",\"windspeed\",\"rainfall\"]].corr()"
   ]
  },
  {
   "cell_type": "code",
   "execution_count": 29,
   "id": "9950001f",
   "metadata": {},
   "outputs": [
    {
     "data": {
      "text/plain": [
       "<seaborn.axisgrid.FacetGrid at 0x19d18dfa580>"
      ]
     },
     "execution_count": 29,
     "metadata": {},
     "output_type": "execute_result"
    },
    {
     "data": {
      "image/png": "[encoded data removed]",
      "text/plain": [
       "<Figure size 360x360 with 1 Axes>"
      ]
     },
     "metadata": {
      "needs_background": "light"
     },
     "output_type": "display_data"
    }
   ],
   "source": [
    "sns.lmplot(df,x=\"pressure\",y=\"rainfall\",logistic=True)"
   ]
  },
  {
   "cell_type": "code",
   "execution_count": 30,
   "id": "c61bdb8d",
   "metadata": {},
   "outputs": [],
   "source": [
    "df = df.drop(columns = \"pressure\")"
   ]
  },
  {
   "cell_type": "code",
   "execution_count": 31,
   "id": "b5b86c05",
   "metadata": {},
   "outputs": [
    {
     "data": {
      "text/html": [
       "<div>\n",
       "<style scoped>\n",
       "    .dataframe tbody tr th:only-of-type {\n",
       "        vertical-align: middle;\n",
       "    }\n",
       "\n",
       "    .dataframe tbody tr th {\n",
       "        vertical-align: top;\n",
       "    }\n",
       "\n",
       "    .dataframe thead th {\n",
       "        text-align: right;\n",
       "    }\n",
       "</style>\n",
       "<table border=\"1\" class=\"dataframe\">\n",
       "  <thead>\n",
       "    <tr style=\"text-align: right;\">\n",
       "      <th></th>\n",
       "      <th>humidity</th>\n",
       "      <th>cloud</th>\n",
       "      <th>sunshine</th>\n",
       "      <th>windspeed</th>\n",
       "      <th>rainfall</th>\n",
       "      <th>diff_temp_dewpoint</th>\n",
       "    </tr>\n",
       "  </thead>\n",
       "  <tbody>\n",
       "    <tr>\n",
       "      <th>0</th>\n",
       "      <td>87.0</td>\n",
       "      <td>88.0</td>\n",
       "      <td>1.1</td>\n",
       "      <td>17.2</td>\n",
       "      <td>1</td>\n",
       "      <td>1.2</td>\n",
       "    </tr>\n",
       "    <tr>\n",
       "      <th>1</th>\n",
       "      <td>95.0</td>\n",
       "      <td>91.0</td>\n",
       "      <td>0.0</td>\n",
       "      <td>21.9</td>\n",
       "      <td>1</td>\n",
       "      <td>1.5</td>\n",
       "    </tr>\n",
       "    <tr>\n",
       "      <th>2</th>\n",
       "      <td>75.0</td>\n",
       "      <td>47.0</td>\n",
       "      <td>8.3</td>\n",
       "      <td>18.1</td>\n",
       "      <td>1</td>\n",
       "      <td>6.8</td>\n",
       "    </tr>\n",
       "    <tr>\n",
       "      <th>3</th>\n",
       "      <td>95.0</td>\n",
       "      <td>95.0</td>\n",
       "      <td>0.0</td>\n",
       "      <td>35.6</td>\n",
       "      <td>1</td>\n",
       "      <td>1.0</td>\n",
       "    </tr>\n",
       "    <tr>\n",
       "      <th>4</th>\n",
       "      <td>52.0</td>\n",
       "      <td>45.0</td>\n",
       "      <td>3.6</td>\n",
       "      <td>24.8</td>\n",
       "      <td>0</td>\n",
       "      <td>8.8</td>\n",
       "    </tr>\n",
       "  </tbody>\n",
       "</table>\n",
       "</div>"
      ],
      "text/plain": [
       "   humidity  cloud  sunshine  windspeed  rainfall  diff_temp_dewpoint\n",
       "0      87.0   88.0       1.1       17.2         1                 1.2\n",
       "1      95.0   91.0       0.0       21.9         1                 1.5\n",
       "2      75.0   47.0       8.3       18.1         1                 6.8\n",
       "3      95.0   95.0       0.0       35.6         1                 1.0\n",
       "4      52.0   45.0       3.6       24.8         0                 8.8"
      ]
     },
     "execution_count": 31,
     "metadata": {},
     "output_type": "execute_result"
    }
   ],
   "source": [
    "df.head()"
   ]
  },
  {
   "cell_type": "code",
   "execution_count": 32,
   "id": "237ae652",
   "metadata": {},
   "outputs": [
    {
     "data": {
      "text/plain": [
       "<seaborn.axisgrid.FacetGrid at 0x19d18de7fa0>"
      ]
     },
     "execution_count": 32,
     "metadata": {},
     "output_type": "execute_result"
    },
    {
     "data": {
      "image/png": "[encoded data removed]",
      "text/plain": [
       "<Figure size 360x360 with 1 Axes>"
      ]
     },
     "metadata": {
      "needs_background": "light"
     },
     "output_type": "display_data"
    }
   ],
   "source": [
    "sns.lmplot(df,x = \"humidity\",y=\"rainfall\",logistic = True)"
   ]
  },
  {
   "cell_type": "code",
   "execution_count": 33,
   "id": "bcf0b9e9",
   "metadata": {},
   "outputs": [
    {
     "data": {
      "text/html": [
       "<div>\n",
       "<style scoped>\n",
       "    .dataframe tbody tr th:only-of-type {\n",
       "        vertical-align: middle;\n",
       "    }\n",
       "\n",
       "    .dataframe tbody tr th {\n",
       "        vertical-align: top;\n",
       "    }\n",
       "\n",
       "    .dataframe thead th {\n",
       "        text-align: right;\n",
       "    }\n",
       "</style>\n",
       "<table border=\"1\" class=\"dataframe\">\n",
       "  <thead>\n",
       "    <tr style=\"text-align: right;\">\n",
       "      <th></th>\n",
       "      <th>humidity</th>\n",
       "      <th>cloud</th>\n",
       "      <th>sunshine</th>\n",
       "      <th>windspeed</th>\n",
       "      <th>rainfall</th>\n",
       "      <th>diff_temp_dewpoint</th>\n",
       "    </tr>\n",
       "  </thead>\n",
       "  <tbody>\n",
       "    <tr>\n",
       "      <th>0</th>\n",
       "      <td>87.0</td>\n",
       "      <td>88.0</td>\n",
       "      <td>1.1</td>\n",
       "      <td>17.2</td>\n",
       "      <td>1</td>\n",
       "      <td>1.2</td>\n",
       "    </tr>\n",
       "    <tr>\n",
       "      <th>1</th>\n",
       "      <td>95.0</td>\n",
       "      <td>91.0</td>\n",
       "      <td>0.0</td>\n",
       "      <td>21.9</td>\n",
       "      <td>1</td>\n",
       "      <td>1.5</td>\n",
       "    </tr>\n",
       "    <tr>\n",
       "      <th>2</th>\n",
       "      <td>75.0</td>\n",
       "      <td>47.0</td>\n",
       "      <td>8.3</td>\n",
       "      <td>18.1</td>\n",
       "      <td>1</td>\n",
       "      <td>6.8</td>\n",
       "    </tr>\n",
       "    <tr>\n",
       "      <th>3</th>\n",
       "      <td>95.0</td>\n",
       "      <td>95.0</td>\n",
       "      <td>0.0</td>\n",
       "      <td>35.6</td>\n",
       "      <td>1</td>\n",
       "      <td>1.0</td>\n",
       "    </tr>\n",
       "    <tr>\n",
       "      <th>4</th>\n",
       "      <td>52.0</td>\n",
       "      <td>45.0</td>\n",
       "      <td>3.6</td>\n",
       "      <td>24.8</td>\n",
       "      <td>0</td>\n",
       "      <td>8.8</td>\n",
       "    </tr>\n",
       "  </tbody>\n",
       "</table>\n",
       "</div>"
      ],
      "text/plain": [
       "   humidity  cloud  sunshine  windspeed  rainfall  diff_temp_dewpoint\n",
       "0      87.0   88.0       1.1       17.2         1                 1.2\n",
       "1      95.0   91.0       0.0       21.9         1                 1.5\n",
       "2      75.0   47.0       8.3       18.1         1                 6.8\n",
       "3      95.0   95.0       0.0       35.6         1                 1.0\n",
       "4      52.0   45.0       3.6       24.8         0                 8.8"
      ]
     },
     "execution_count": 33,
     "metadata": {},
     "output_type": "execute_result"
    }
   ],
   "source": [
    "df.head()"
   ]
  },
  {
   "cell_type": "markdown",
   "id": "35ce4c69",
   "metadata": {},
   "source": [
    "Supervised Learning"
   ]
  },
  {
   "cell_type": "code",
   "execution_count": 48,
   "id": "11680d4d",
   "metadata": {},
   "outputs": [],
   "source": [
    "X = np.array(df[[col for col in df.columns if col != \"rainfall\"]])\n",
    "y = np.array(df[\"rainfall\"]).reshape((-1,1))\n",
    "\n",
    "X = (X - X.mean(axis = 0)) / X.std(axis = 0)"
   ]
  },
  {
   "cell_type": "code",
   "execution_count": 52,
   "id": "402b9f99",
   "metadata": {},
   "outputs": [],
   "source": [
    "# Class which makes a grid-seach with roc_auc_score\n",
    "\n",
    "class GridSearchCV_auc_roc_curve:\n",
    "    \n",
    "    def __init__(self,estimator,param_grid,cv):\n",
    "        \n",
    "        self.estimator = estimator\n",
    "        self.param_grid = param_grid\n",
    "        self.cv = cv\n",
    "        self.best_estimator = None\n",
    "        self.all_scores = []\n",
    "        all_parameters = product(*self.param_grid.values())\n",
    "        self.all_estimators = [clone(estimator).set_params(**{key:value for key,value in zip(self.param_grid.keys(),parameters)})\\\n",
    "                              for parameters in all_parameters]\n",
    "    \n",
    "    def fit(self,X,y):\n",
    "        df = pd.DataFrame(data = np.concatenate([X,y.reshape((-1,1))],axis = 1))\n",
    "        kf = KFold(n_splits=self.cv)\n",
    "        len_para_grid = len(self.param_grid)\n",
    "        all_parameters = product(*self.param_grid.values())\n",
    "        fited_estimators = []\n",
    "        for parameters in all_parameters:\n",
    "            auc_scores_list = []\n",
    "            est = clone(self.estimator)\n",
    "            est.set_params(**{key:value for key,value in zip(self.param_grid.keys(),parameters)})\n",
    "            for train_idx, test_idx in kf.split(df):\n",
    "                train = df.iloc[train_idx]\n",
    "                test = df.iloc[test_idx]\n",
    "                X_train = np.array(train.iloc[:,:-1])\n",
    "                y_train = np.array(train.iloc[:,-1]).reshape((-1,))\n",
    "                X_test = np.array(test.iloc[:,:-1])\n",
    "                y_test = np.array(test.iloc[:,-1]).reshape((-1,))\n",
    "                with warnings.catch_warnings():\n",
    "                   warnings.simplefilter(\"ignore\") \n",
    "                   est.fit(X_train,y_train)\n",
    "                y_test_prob = est.predict_proba(X_test)\n",
    "                if y_test_prob.ndim == 2 & y_test_prob.shape[1] == 2:\n",
    "                    y_test_prob = y_test_prob[:,1].reshape((-1,1))\n",
    "                else:\n",
    "                    y_test_prob = y_test_prob.reshape((-1,1))\n",
    "                auc_scores_list.append(roc_auc_score(y_test,y_test_prob))\n",
    "            mean_auc_score = np.mean(auc_scores_list)\n",
    "            self.all_scores.append(mean_auc_score)\n",
    "            fited_estimators.append(est)\n",
    "            \n",
    "        idx_best_score = np.argmax(self.all_scores)\n",
    "        self.best_score_ = self.all_scores[idx_best_score]\n",
    "        self.best_estimator_ = fited_estimators[idx_best_score]\n",
    "\n",
    "        \n",
    "    def pred(self,X):\n",
    "        \n",
    "        if self.best_estimator == None:\n",
    "            raise ValueError(\"You have not fit the model\")\n",
    "        else:\n",
    "           return self.best_estimator.predict(X)\n",
    "    \n",
    "    def pred_prob(self,X):\n",
    "        \n",
    "        if self.best_estimator == None:\n",
    "            raise ValueError(\"You have not fit the model\")\n",
    "        else:\n",
    "           return self.best_estimator.predict_proba(X) \n",
    "        \n",
    "        \n",
    "        "
   ]
  },
  {
   "cell_type": "code",
   "execution_count": 53,
   "id": "7a58f008",
   "metadata": {},
   "outputs": [],
   "source": [
    "#Function which compares different models\n",
    "\n",
    "def models_grid_search_auc(data_model,X,y):\n",
    "    \n",
    "\n",
    "    metrics_models = []\n",
    "    cols_dataset_metrics = [\"auc_score\"]\n",
    "\n",
    "\n",
    "\n",
    "\n",
    "    best_estimators = dict()\n",
    "    \n",
    "    for model_name , model_info in data_model.items():\n",
    "        print(\"**************************************************************************\")\n",
    "        print(\"*********************\",model_name,\"***************************************\")\n",
    "        print(\"**************************************************************************\")\n",
    "        model = model_info[0]\n",
    "        param_grid = model_info[1]\n",
    "        gs_model = GridSearchCV_auc_roc_curve(estimator = model , param_grid = param_grid , cv=5)\n",
    "        gs_model.fit(X,y)\n",
    "        best_estimator = gs_model.best_estimator_\n",
    "        best_estimators.update({model_name:best_estimator})\n",
    "        metrics_models.append(gs_model.best_score_)   \n",
    "        \n",
    "    metrics_models_df = pd.DataFrame(data = metrics_models,columns = [\"AUC score\"], index = data_model.keys())  \n",
    "\n",
    "    return best_estimators,metrics_models_df"
   ]
  },
  {
   "cell_type": "markdown",
   "id": "bef1fe82",
   "metadata": {},
   "source": [
    "We compare, with differente hyper-parameters, Logistic Regression, KNeighborsClassifier and XGBOOST."
   ]
  },
  {
   "cell_type": "code",
   "execution_count": 54,
   "id": "a9fa5384",
   "metadata": {},
   "outputs": [],
   "source": [
    "data_models = {'LR' : [LogisticRegression(max_iter = 1000),{'penalty': ['l2','none']\n",
    "                                             , 'C': np.linspace(0.01, 5, 10)}]\n",
    "              ,'knn' : [KNeighborsClassifier(),{'n_neighbors':[5,50,500]}]\n",
    "#              ,'Random Forest' : [RandomForestClassifier(),{\"n_estimators\": [ 25, 100], 'max_depth': range(2, 11, 4)\n",
    "#                                                            , 'min_samples_split': [2, 5, 10]}]\n",
    "#               ,'Decision tree' : [DecisionTreeClassifier(),dict()]\n",
    "              ,'XGBOOST' : [XGBClassifier(objective= 'binary:logistic'),{'max_depth': range (2, 10, 4),\n",
    "     'n_estimators': range(60, 220, 70),\n",
    "     'learning_rate': [0.1, 0.01, 0.05]}]}"
   ]
  },
  {
   "cell_type": "code",
   "execution_count": 55,
   "id": "f5155653",
   "metadata": {},
   "outputs": [
    {
     "name": "stdout",
     "output_type": "stream",
     "text": [
      "**************************************************************************\n",
      "********************* LR ***************************************\n",
      "**************************************************************************\n",
      "**************************************************************************\n",
      "********************* knn ***************************************\n",
      "**************************************************************************\n",
      "**************************************************************************\n",
      "********************* XGBOOST ***************************************\n",
      "**************************************************************************\n"
     ]
    }
   ],
   "source": [
    "best_estimators,metrics_models_df = models_grid_search_auc(data_models,X,y)"
   ]
  },
  {
   "cell_type": "code",
   "execution_count": 56,
   "id": "d64b3313",
   "metadata": {},
   "outputs": [
    {
     "data": {
      "text/html": [
       "<div>\n",
       "<style scoped>\n",
       "    .dataframe tbody tr th:only-of-type {\n",
       "        vertical-align: middle;\n",
       "    }\n",
       "\n",
       "    .dataframe tbody tr th {\n",
       "        vertical-align: top;\n",
       "    }\n",
       "\n",
       "    .dataframe thead th {\n",
       "        text-align: right;\n",
       "    }\n",
       "</style>\n",
       "<table border=\"1\" class=\"dataframe\">\n",
       "  <thead>\n",
       "    <tr style=\"text-align: right;\">\n",
       "      <th></th>\n",
       "      <th>AUC score</th>\n",
       "    </tr>\n",
       "  </thead>\n",
       "  <tbody>\n",
       "    <tr>\n",
       "      <th>LR</th>\n",
       "      <td>0.887979</td>\n",
       "    </tr>\n",
       "    <tr>\n",
       "      <th>knn</th>\n",
       "      <td>0.883662</td>\n",
       "    </tr>\n",
       "    <tr>\n",
       "      <th>XGBOOST</th>\n",
       "      <td>0.888271</td>\n",
       "    </tr>\n",
       "  </tbody>\n",
       "</table>\n",
       "</div>"
      ],
      "text/plain": [
       "         AUC score\n",
       "LR        0.887979\n",
       "knn       0.883662\n",
       "XGBOOST   0.888271"
      ]
     },
     "execution_count": 56,
     "metadata": {},
     "output_type": "execute_result"
    }
   ],
   "source": [
    "metrics_models_df"
   ]
  },
  {
   "cell_type": "markdown",
   "id": "6f9fa897",
   "metadata": {},
   "source": [
    "XGBOOST wins!"
   ]
  },
  {
   "cell_type": "code",
   "execution_count": 57,
   "id": "e93f35c1",
   "metadata": {},
   "outputs": [],
   "source": [
    "classifier = best_estimators['XGBOOST']"
   ]
  },
  {
   "cell_type": "code",
   "execution_count": 71,
   "id": "9bf9d637",
   "metadata": {},
   "outputs": [],
   "source": [
    "test = pd.read_csv(\"test.csv\")"
   ]
  },
  {
   "cell_type": "code",
   "execution_count": 72,
   "id": "4d78e4a7",
   "metadata": {},
   "outputs": [
    {
     "data": {
      "text/html": [
       "<div>\n",
       "<style scoped>\n",
       "    .dataframe tbody tr th:only-of-type {\n",
       "        vertical-align: middle;\n",
       "    }\n",
       "\n",
       "    .dataframe tbody tr th {\n",
       "        vertical-align: top;\n",
       "    }\n",
       "\n",
       "    .dataframe thead th {\n",
       "        text-align: right;\n",
       "    }\n",
       "</style>\n",
       "<table border=\"1\" class=\"dataframe\">\n",
       "  <thead>\n",
       "    <tr style=\"text-align: right;\">\n",
       "      <th></th>\n",
       "      <th>id</th>\n",
       "      <th>day</th>\n",
       "      <th>pressure</th>\n",
       "      <th>maxtemp</th>\n",
       "      <th>temparature</th>\n",
       "      <th>mintemp</th>\n",
       "      <th>dewpoint</th>\n",
       "      <th>humidity</th>\n",
       "      <th>cloud</th>\n",
       "      <th>sunshine</th>\n",
       "      <th>winddirection</th>\n",
       "      <th>windspeed</th>\n",
       "    </tr>\n",
       "  </thead>\n",
       "  <tbody>\n",
       "    <tr>\n",
       "      <th>0</th>\n",
       "      <td>2190</td>\n",
       "      <td>1</td>\n",
       "      <td>1019.5</td>\n",
       "      <td>17.5</td>\n",
       "      <td>15.8</td>\n",
       "      <td>12.7</td>\n",
       "      <td>14.9</td>\n",
       "      <td>96.0</td>\n",
       "      <td>99.0</td>\n",
       "      <td>0.0</td>\n",
       "      <td>50.0</td>\n",
       "      <td>24.3</td>\n",
       "    </tr>\n",
       "    <tr>\n",
       "      <th>1</th>\n",
       "      <td>2191</td>\n",
       "      <td>2</td>\n",
       "      <td>1016.5</td>\n",
       "      <td>17.5</td>\n",
       "      <td>16.5</td>\n",
       "      <td>15.8</td>\n",
       "      <td>15.1</td>\n",
       "      <td>97.0</td>\n",
       "      <td>99.0</td>\n",
       "      <td>0.0</td>\n",
       "      <td>50.0</td>\n",
       "      <td>35.3</td>\n",
       "    </tr>\n",
       "    <tr>\n",
       "      <th>2</th>\n",
       "      <td>2192</td>\n",
       "      <td>3</td>\n",
       "      <td>1023.9</td>\n",
       "      <td>11.2</td>\n",
       "      <td>10.4</td>\n",
       "      <td>9.4</td>\n",
       "      <td>8.9</td>\n",
       "      <td>86.0</td>\n",
       "      <td>96.0</td>\n",
       "      <td>0.0</td>\n",
       "      <td>40.0</td>\n",
       "      <td>16.9</td>\n",
       "    </tr>\n",
       "    <tr>\n",
       "      <th>3</th>\n",
       "      <td>2193</td>\n",
       "      <td>4</td>\n",
       "      <td>1022.9</td>\n",
       "      <td>20.6</td>\n",
       "      <td>17.3</td>\n",
       "      <td>15.2</td>\n",
       "      <td>9.5</td>\n",
       "      <td>75.0</td>\n",
       "      <td>45.0</td>\n",
       "      <td>7.1</td>\n",
       "      <td>20.0</td>\n",
       "      <td>50.6</td>\n",
       "    </tr>\n",
       "    <tr>\n",
       "      <th>4</th>\n",
       "      <td>2194</td>\n",
       "      <td>5</td>\n",
       "      <td>1022.2</td>\n",
       "      <td>16.1</td>\n",
       "      <td>13.8</td>\n",
       "      <td>6.4</td>\n",
       "      <td>4.3</td>\n",
       "      <td>68.0</td>\n",
       "      <td>49.0</td>\n",
       "      <td>9.2</td>\n",
       "      <td>20.0</td>\n",
       "      <td>19.4</td>\n",
       "    </tr>\n",
       "  </tbody>\n",
       "</table>\n",
       "</div>"
      ],
      "text/plain": [
       "     id  day  pressure  maxtemp  temparature  mintemp  dewpoint  humidity  \\\n",
       "0  2190    1    1019.5     17.5         15.8     12.7      14.9      96.0   \n",
       "1  2191    2    1016.5     17.5         16.5     15.8      15.1      97.0   \n",
       "2  2192    3    1023.9     11.2         10.4      9.4       8.9      86.0   \n",
       "3  2193    4    1022.9     20.6         17.3     15.2       9.5      75.0   \n",
       "4  2194    5    1022.2     16.1         13.8      6.4       4.3      68.0   \n",
       "\n",
       "   cloud  sunshine  winddirection  windspeed  \n",
       "0   99.0       0.0           50.0       24.3  \n",
       "1   99.0       0.0           50.0       35.3  \n",
       "2   96.0       0.0           40.0       16.9  \n",
       "3   45.0       7.1           20.0       50.6  \n",
       "4   49.0       9.2           20.0       19.4  "
      ]
     },
     "execution_count": 72,
     "metadata": {},
     "output_type": "execute_result"
    }
   ],
   "source": [
    "test.head()"
   ]
  },
  {
   "cell_type": "code",
   "execution_count": 73,
   "id": "39413204",
   "metadata": {},
   "outputs": [],
   "source": [
    "test.index = test.id"
   ]
  },
  {
   "cell_type": "code",
   "execution_count": 74,
   "id": "14c624b4",
   "metadata": {},
   "outputs": [
    {
     "data": {
      "text/plain": [
       "Index(['humidity', 'cloud', 'sunshine', 'windspeed', 'rainfall',\n",
       "       'diff_temp_dewpoint'],\n",
       "      dtype='object')"
      ]
     },
     "execution_count": 74,
     "metadata": {},
     "output_type": "execute_result"
    }
   ],
   "source": [
    "df.columns"
   ]
  },
  {
   "cell_type": "code",
   "execution_count": 75,
   "id": "5ef4a68f",
   "metadata": {},
   "outputs": [],
   "source": [
    "test[\"diff_temp_dewpoint\"] = test[\"temparature\"] - test[\"dewpoint\"]"
   ]
  },
  {
   "cell_type": "code",
   "execution_count": 76,
   "id": "f9cc98ad",
   "metadata": {},
   "outputs": [],
   "source": [
    "test = test[[col for col in df.columns if col != \"rainfall\"]]"
   ]
  },
  {
   "cell_type": "code",
   "execution_count": 77,
   "id": "8902c71b",
   "metadata": {},
   "outputs": [
    {
     "data": {
      "text/html": [
       "<div>\n",
       "<style scoped>\n",
       "    .dataframe tbody tr th:only-of-type {\n",
       "        vertical-align: middle;\n",
       "    }\n",
       "\n",
       "    .dataframe tbody tr th {\n",
       "        vertical-align: top;\n",
       "    }\n",
       "\n",
       "    .dataframe thead th {\n",
       "        text-align: right;\n",
       "    }\n",
       "</style>\n",
       "<table border=\"1\" class=\"dataframe\">\n",
       "  <thead>\n",
       "    <tr style=\"text-align: right;\">\n",
       "      <th></th>\n",
       "      <th>humidity</th>\n",
       "      <th>cloud</th>\n",
       "      <th>sunshine</th>\n",
       "      <th>windspeed</th>\n",
       "      <th>diff_temp_dewpoint</th>\n",
       "    </tr>\n",
       "    <tr>\n",
       "      <th>id</th>\n",
       "      <th></th>\n",
       "      <th></th>\n",
       "      <th></th>\n",
       "      <th></th>\n",
       "      <th></th>\n",
       "    </tr>\n",
       "  </thead>\n",
       "  <tbody>\n",
       "    <tr>\n",
       "      <th>2190</th>\n",
       "      <td>96.0</td>\n",
       "      <td>99.0</td>\n",
       "      <td>0.0</td>\n",
       "      <td>24.3</td>\n",
       "      <td>0.9</td>\n",
       "    </tr>\n",
       "    <tr>\n",
       "      <th>2191</th>\n",
       "      <td>97.0</td>\n",
       "      <td>99.0</td>\n",
       "      <td>0.0</td>\n",
       "      <td>35.3</td>\n",
       "      <td>1.4</td>\n",
       "    </tr>\n",
       "    <tr>\n",
       "      <th>2192</th>\n",
       "      <td>86.0</td>\n",
       "      <td>96.0</td>\n",
       "      <td>0.0</td>\n",
       "      <td>16.9</td>\n",
       "      <td>1.5</td>\n",
       "    </tr>\n",
       "    <tr>\n",
       "      <th>2193</th>\n",
       "      <td>75.0</td>\n",
       "      <td>45.0</td>\n",
       "      <td>7.1</td>\n",
       "      <td>50.6</td>\n",
       "      <td>7.8</td>\n",
       "    </tr>\n",
       "    <tr>\n",
       "      <th>2194</th>\n",
       "      <td>68.0</td>\n",
       "      <td>49.0</td>\n",
       "      <td>9.2</td>\n",
       "      <td>19.4</td>\n",
       "      <td>9.5</td>\n",
       "    </tr>\n",
       "  </tbody>\n",
       "</table>\n",
       "</div>"
      ],
      "text/plain": [
       "      humidity  cloud  sunshine  windspeed  diff_temp_dewpoint\n",
       "id                                                            \n",
       "2190      96.0   99.0       0.0       24.3                 0.9\n",
       "2191      97.0   99.0       0.0       35.3                 1.4\n",
       "2192      86.0   96.0       0.0       16.9                 1.5\n",
       "2193      75.0   45.0       7.1       50.6                 7.8\n",
       "2194      68.0   49.0       9.2       19.4                 9.5"
      ]
     },
     "execution_count": 77,
     "metadata": {},
     "output_type": "execute_result"
    }
   ],
   "source": [
    "test.head()"
   ]
  },
  {
   "cell_type": "code",
   "execution_count": 78,
   "id": "c6ea24f9",
   "metadata": {},
   "outputs": [],
   "source": [
    "X_test = np.array(test)"
   ]
  },
  {
   "cell_type": "code",
   "execution_count": 79,
   "id": "614c3373",
   "metadata": {},
   "outputs": [],
   "source": [
    "X_test = (X_test - X_test.mean(axis = 0) ) / X_test.std(axis = 0)"
   ]
  },
  {
   "cell_type": "code",
   "execution_count": 80,
   "id": "988451d6",
   "metadata": {},
   "outputs": [],
   "source": [
    "test[\"prediction\"] = classifier.predict_proba(X_test)[:,1]"
   ]
  },
  {
   "cell_type": "code",
   "execution_count": 81,
   "id": "f6bc8288",
   "metadata": {},
   "outputs": [
    {
     "data": {
      "text/html": [
       "<div>\n",
       "<style scoped>\n",
       "    .dataframe tbody tr th:only-of-type {\n",
       "        vertical-align: middle;\n",
       "    }\n",
       "\n",
       "    .dataframe tbody tr th {\n",
       "        vertical-align: top;\n",
       "    }\n",
       "\n",
       "    .dataframe thead th {\n",
       "        text-align: right;\n",
       "    }\n",
       "</style>\n",
       "<table border=\"1\" class=\"dataframe\">\n",
       "  <thead>\n",
       "    <tr style=\"text-align: right;\">\n",
       "      <th></th>\n",
       "      <th>humidity</th>\n",
       "      <th>cloud</th>\n",
       "      <th>sunshine</th>\n",
       "      <th>windspeed</th>\n",
       "      <th>diff_temp_dewpoint</th>\n",
       "      <th>prediction</th>\n",
       "    </tr>\n",
       "    <tr>\n",
       "      <th>id</th>\n",
       "      <th></th>\n",
       "      <th></th>\n",
       "      <th></th>\n",
       "      <th></th>\n",
       "      <th></th>\n",
       "      <th></th>\n",
       "    </tr>\n",
       "  </thead>\n",
       "  <tbody>\n",
       "    <tr>\n",
       "      <th>2190</th>\n",
       "      <td>96.0</td>\n",
       "      <td>99.0</td>\n",
       "      <td>0.0</td>\n",
       "      <td>24.3</td>\n",
       "      <td>0.9</td>\n",
       "      <td>0.952454</td>\n",
       "    </tr>\n",
       "    <tr>\n",
       "      <th>2191</th>\n",
       "      <td>97.0</td>\n",
       "      <td>99.0</td>\n",
       "      <td>0.0</td>\n",
       "      <td>35.3</td>\n",
       "      <td>1.4</td>\n",
       "      <td>0.952454</td>\n",
       "    </tr>\n",
       "    <tr>\n",
       "      <th>2192</th>\n",
       "      <td>86.0</td>\n",
       "      <td>96.0</td>\n",
       "      <td>0.0</td>\n",
       "      <td>16.9</td>\n",
       "      <td>1.5</td>\n",
       "      <td>0.945426</td>\n",
       "    </tr>\n",
       "    <tr>\n",
       "      <th>2193</th>\n",
       "      <td>75.0</td>\n",
       "      <td>45.0</td>\n",
       "      <td>7.1</td>\n",
       "      <td>50.6</td>\n",
       "      <td>7.8</td>\n",
       "      <td>0.260564</td>\n",
       "    </tr>\n",
       "    <tr>\n",
       "      <th>2194</th>\n",
       "      <td>68.0</td>\n",
       "      <td>49.0</td>\n",
       "      <td>9.2</td>\n",
       "      <td>19.4</td>\n",
       "      <td>9.5</td>\n",
       "      <td>0.166235</td>\n",
       "    </tr>\n",
       "    <tr>\n",
       "      <th>...</th>\n",
       "      <td>...</td>\n",
       "      <td>...</td>\n",
       "      <td>...</td>\n",
       "      <td>...</td>\n",
       "      <td>...</td>\n",
       "      <td>...</td>\n",
       "    </tr>\n",
       "    <tr>\n",
       "      <th>2915</th>\n",
       "      <td>96.0</td>\n",
       "      <td>95.0</td>\n",
       "      <td>0.0</td>\n",
       "      <td>34.3</td>\n",
       "      <td>3.9</td>\n",
       "      <td>0.952454</td>\n",
       "    </tr>\n",
       "    <tr>\n",
       "      <th>2916</th>\n",
       "      <td>78.0</td>\n",
       "      <td>80.0</td>\n",
       "      <td>1.6</td>\n",
       "      <td>25.2</td>\n",
       "      <td>2.1</td>\n",
       "      <td>0.803414</td>\n",
       "    </tr>\n",
       "    <tr>\n",
       "      <th>2917</th>\n",
       "      <td>92.0</td>\n",
       "      <td>96.0</td>\n",
       "      <td>0.0</td>\n",
       "      <td>21.9</td>\n",
       "      <td>3.0</td>\n",
       "      <td>0.952454</td>\n",
       "    </tr>\n",
       "    <tr>\n",
       "      <th>2918</th>\n",
       "      <td>94.0</td>\n",
       "      <td>93.0</td>\n",
       "      <td>0.0</td>\n",
       "      <td>39.5</td>\n",
       "      <td>0.2</td>\n",
       "      <td>0.952454</td>\n",
       "    </tr>\n",
       "    <tr>\n",
       "      <th>2919</th>\n",
       "      <td>79.0</td>\n",
       "      <td>89.0</td>\n",
       "      <td>0.2</td>\n",
       "      <td>50.6</td>\n",
       "      <td>5.5</td>\n",
       "      <td>0.856663</td>\n",
       "    </tr>\n",
       "  </tbody>\n",
       "</table>\n",
       "<p>730 rows × 6 columns</p>\n",
       "</div>"
      ],
      "text/plain": [
       "      humidity  cloud  sunshine  windspeed  diff_temp_dewpoint  prediction\n",
       "id                                                                        \n",
       "2190      96.0   99.0       0.0       24.3                 0.9    0.952454\n",
       "2191      97.0   99.0       0.0       35.3                 1.4    0.952454\n",
       "2192      86.0   96.0       0.0       16.9                 1.5    0.945426\n",
       "2193      75.0   45.0       7.1       50.6                 7.8    0.260564\n",
       "2194      68.0   49.0       9.2       19.4                 9.5    0.166235\n",
       "...        ...    ...       ...        ...                 ...         ...\n",
       "2915      96.0   95.0       0.0       34.3                 3.9    0.952454\n",
       "2916      78.0   80.0       1.6       25.2                 2.1    0.803414\n",
       "2917      92.0   96.0       0.0       21.9                 3.0    0.952454\n",
       "2918      94.0   93.0       0.0       39.5                 0.2    0.952454\n",
       "2919      79.0   89.0       0.2       50.6                 5.5    0.856663\n",
       "\n",
       "[730 rows x 6 columns]"
      ]
     },
     "execution_count": 81,
     "metadata": {},
     "output_type": "execute_result"
    }
   ],
   "source": [
    "test"
   ]
  },
  {
   "cell_type": "code",
   "execution_count": 82,
   "id": "4834befd",
   "metadata": {},
   "outputs": [],
   "source": [
    "sample_submission = pd.read_csv(\"sample_submission.csv\")"
   ]
  },
  {
   "cell_type": "code",
   "execution_count": 84,
   "id": "cf45a639",
   "metadata": {},
   "outputs": [
    {
     "data": {
      "text/plain": [
       "(730, 2)"
      ]
     },
     "execution_count": 84,
     "metadata": {},
     "output_type": "execute_result"
    }
   ],
   "source": [
    "sample_submission.shape"
   ]
  },
  {
   "cell_type": "code",
   "execution_count": 85,
   "id": "7575a155",
   "metadata": {},
   "outputs": [
    {
     "data": {
      "text/plain": [
       "(730, 6)"
      ]
     },
     "execution_count": 85,
     "metadata": {},
     "output_type": "execute_result"
    }
   ],
   "source": [
    "test.shape"
   ]
  },
  {
   "cell_type": "code",
   "execution_count": 86,
   "id": "0ab33ca1",
   "metadata": {},
   "outputs": [
    {
     "data": {
      "text/html": [
       "<div>\n",
       "<style scoped>\n",
       "    .dataframe tbody tr th:only-of-type {\n",
       "        vertical-align: middle;\n",
       "    }\n",
       "\n",
       "    .dataframe tbody tr th {\n",
       "        vertical-align: top;\n",
       "    }\n",
       "\n",
       "    .dataframe thead th {\n",
       "        text-align: right;\n",
       "    }\n",
       "</style>\n",
       "<table border=\"1\" class=\"dataframe\">\n",
       "  <thead>\n",
       "    <tr style=\"text-align: right;\">\n",
       "      <th></th>\n",
       "      <th>id</th>\n",
       "      <th>rainfall</th>\n",
       "    </tr>\n",
       "  </thead>\n",
       "  <tbody>\n",
       "    <tr>\n",
       "      <th>0</th>\n",
       "      <td>2190</td>\n",
       "      <td>0</td>\n",
       "    </tr>\n",
       "    <tr>\n",
       "      <th>1</th>\n",
       "      <td>2191</td>\n",
       "      <td>0</td>\n",
       "    </tr>\n",
       "    <tr>\n",
       "      <th>2</th>\n",
       "      <td>2192</td>\n",
       "      <td>0</td>\n",
       "    </tr>\n",
       "    <tr>\n",
       "      <th>3</th>\n",
       "      <td>2193</td>\n",
       "      <td>0</td>\n",
       "    </tr>\n",
       "    <tr>\n",
       "      <th>4</th>\n",
       "      <td>2194</td>\n",
       "      <td>0</td>\n",
       "    </tr>\n",
       "  </tbody>\n",
       "</table>\n",
       "</div>"
      ],
      "text/plain": [
       "     id  rainfall\n",
       "0  2190         0\n",
       "1  2191         0\n",
       "2  2192         0\n",
       "3  2193         0\n",
       "4  2194         0"
      ]
     },
     "execution_count": 86,
     "metadata": {},
     "output_type": "execute_result"
    }
   ],
   "source": [
    "sample_submission.head()"
   ]
  },
  {
   "cell_type": "code",
   "execution_count": 90,
   "id": "7f291273",
   "metadata": {},
   "outputs": [],
   "source": [
    "sample_submission.index = test.index"
   ]
  },
  {
   "cell_type": "code",
   "execution_count": 91,
   "id": "9fcdcb2d",
   "metadata": {},
   "outputs": [],
   "source": [
    "sample_submission[\"rainfall\"] = test[\"prediction\"]"
   ]
  },
  {
   "cell_type": "code",
   "execution_count": 93,
   "id": "a2f25735",
   "metadata": {},
   "outputs": [],
   "source": [
    "sample_submission.index = range(len(test))"
   ]
  },
  {
   "cell_type": "code",
   "execution_count": 94,
   "id": "5f37e2e6",
   "metadata": {},
   "outputs": [
    {
     "data": {
      "text/html": [
       "<div>\n",
       "<style scoped>\n",
       "    .dataframe tbody tr th:only-of-type {\n",
       "        vertical-align: middle;\n",
       "    }\n",
       "\n",
       "    .dataframe tbody tr th {\n",
       "        vertical-align: top;\n",
       "    }\n",
       "\n",
       "    .dataframe thead th {\n",
       "        text-align: right;\n",
       "    }\n",
       "</style>\n",
       "<table border=\"1\" class=\"dataframe\">\n",
       "  <thead>\n",
       "    <tr style=\"text-align: right;\">\n",
       "      <th></th>\n",
       "      <th>id</th>\n",
       "      <th>rainfall</th>\n",
       "    </tr>\n",
       "  </thead>\n",
       "  <tbody>\n",
       "    <tr>\n",
       "      <th>0</th>\n",
       "      <td>2190</td>\n",
       "      <td>0.952454</td>\n",
       "    </tr>\n",
       "    <tr>\n",
       "      <th>1</th>\n",
       "      <td>2191</td>\n",
       "      <td>0.952454</td>\n",
       "    </tr>\n",
       "    <tr>\n",
       "      <th>2</th>\n",
       "      <td>2192</td>\n",
       "      <td>0.945426</td>\n",
       "    </tr>\n",
       "    <tr>\n",
       "      <th>3</th>\n",
       "      <td>2193</td>\n",
       "      <td>0.260564</td>\n",
       "    </tr>\n",
       "    <tr>\n",
       "      <th>4</th>\n",
       "      <td>2194</td>\n",
       "      <td>0.166235</td>\n",
       "    </tr>\n",
       "    <tr>\n",
       "      <th>...</th>\n",
       "      <td>...</td>\n",
       "      <td>...</td>\n",
       "    </tr>\n",
       "    <tr>\n",
       "      <th>725</th>\n",
       "      <td>2915</td>\n",
       "      <td>0.952454</td>\n",
       "    </tr>\n",
       "    <tr>\n",
       "      <th>726</th>\n",
       "      <td>2916</td>\n",
       "      <td>0.803414</td>\n",
       "    </tr>\n",
       "    <tr>\n",
       "      <th>727</th>\n",
       "      <td>2917</td>\n",
       "      <td>0.952454</td>\n",
       "    </tr>\n",
       "    <tr>\n",
       "      <th>728</th>\n",
       "      <td>2918</td>\n",
       "      <td>0.952454</td>\n",
       "    </tr>\n",
       "    <tr>\n",
       "      <th>729</th>\n",
       "      <td>2919</td>\n",
       "      <td>0.856663</td>\n",
       "    </tr>\n",
       "  </tbody>\n",
       "</table>\n",
       "<p>730 rows × 2 columns</p>\n",
       "</div>"
      ],
      "text/plain": [
       "       id  rainfall\n",
       "0    2190  0.952454\n",
       "1    2191  0.952454\n",
       "2    2192  0.945426\n",
       "3    2193  0.260564\n",
       "4    2194  0.166235\n",
       "..    ...       ...\n",
       "725  2915  0.952454\n",
       "726  2916  0.803414\n",
       "727  2917  0.952454\n",
       "728  2918  0.952454\n",
       "729  2919  0.856663\n",
       "\n",
       "[730 rows x 2 columns]"
      ]
     },
     "execution_count": 94,
     "metadata": {},
     "output_type": "execute_result"
    }
   ],
   "source": [
    "sample_submission"
   ]
  },
  {
   "cell_type": "code",
   "execution_count": 95,
   "id": "d2d3e192",
   "metadata": {},
   "outputs": [],
   "source": [
    "sample_submission.to_csv(\"sample_submission.csv\")"
   ]
  },
  {
   "cell_type": "code",
   "execution_count": null,
   "id": "f6ef856e",
   "metadata": {},
   "outputs": [],
   "source": []
  }
 ],
 "metadata": {
  "kernelspec": {
   "display_name": "Python 3 (ipykernel)",
   "language": "python",
   "name": "python3"
  },
  "language_info": {
   "codemirror_mode": {
    "name": "ipython",
    "version": 3
   },
   "file_extension": ".py",
   "mimetype": "text/x-python",
   "name": "python",
   "nbconvert_exporter": "python",
   "pygments_lexer": "ipython3",
   "version": "3.9.12"
  }
 },
 "nbformat": 4,
 "nbformat_minor": 5
}
